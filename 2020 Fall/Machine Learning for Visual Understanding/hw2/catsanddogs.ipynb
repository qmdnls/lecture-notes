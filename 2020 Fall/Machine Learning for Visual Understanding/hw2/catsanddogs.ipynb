{
  "nbformat": 4,
  "nbformat_minor": 0,
  "metadata": {
    "colab": {
      "name": "catsanddogs_v3_distribution.ipynb",
      "provenance": [],
      "collapsed_sections": []
    },
    "kernelspec": {
      "name": "python3",
      "display_name": "Python 3"
    },
    "accelerator": "GPU"
  },
  "cells": [
    {
      "cell_type": "markdown",
      "metadata": {
        "id": "fKnsjE_hISg5"
      },
      "source": [
        "## Cats and dogs V3\n",
        "\n",
        "### **Submitted by: BEBENSEE BJOERN (2019-21343)**\n",
        "\n",
        "####**Designed by Joon Son Chung, October 2020**\n",
        "\n",
        "This is a running example.\n",
        "\n",
        "Here, instead of heights and weights, we design a simple CNN to classify images of cats and dogs.\n",
        "\n",
        "I got these by selecting some cats and dogs from the 32x32 ImageNet data. We call this C&D dataset from now on."
      ]
    },
    {
      "cell_type": "code",
      "metadata": {
        "id": "mPAghUpOISDX",
        "outputId": "2fe90fe5-af8a-40d6-b1e4-5c14d749171b",
        "colab": {
          "base_uri": "https://localhost:8080/",
          "height": 374
        }
      },
      "source": [
        "from google.colab import drive\n",
        "import os, glob, sys, numpy, cv2, random\n",
        "\n",
        "drive.mount('/content/drive', force_remount=True)\n",
        "\n",
        "# path relative to the home folder of Drive\n",
        "FOLDER = 'Colab Notebooks/catsanddogs_v3' ##### FILL THIS IN #####\n",
        "\n",
        "# check runtime type\n",
        "gpu_info = !nvidia-smi\n",
        "gpu_info = '\\n'.join(gpu_info)\n",
        "if gpu_info.find('failed') >= 0:\n",
        "  print('Select the Runtime > \"Change runtime type\" menu to enable a GPU accelerator, ')\n",
        "  print('and then re-execute this cell.')\n",
        "else:\n",
        "  print(gpu_info)"
      ],
      "execution_count": null,
      "outputs": [
        {
          "output_type": "stream",
          "text": [
            "Mounted at /content/drive\n",
            "Sun Oct 11 13:51:24 2020       \n",
            "+-----------------------------------------------------------------------------+\n",
            "| NVIDIA-SMI 455.23.05    Driver Version: 418.67       CUDA Version: 10.1     |\n",
            "|-------------------------------+----------------------+----------------------+\n",
            "| GPU  Name        Persistence-M| Bus-Id        Disp.A | Volatile Uncorr. ECC |\n",
            "| Fan  Temp  Perf  Pwr:Usage/Cap|         Memory-Usage | GPU-Util  Compute M. |\n",
            "|                               |                      |               MIG M. |\n",
            "|===============================+======================+======================|\n",
            "|   0  Tesla P4            Off  | 00000000:00:04.0 Off |                    0 |\n",
            "| N/A   61C    P8     9W /  75W |      0MiB /  7611MiB |      0%      Default |\n",
            "|                               |                      |                 ERR! |\n",
            "+-------------------------------+----------------------+----------------------+\n",
            "                                                                               \n",
            "+-----------------------------------------------------------------------------+\n",
            "| Processes:                                                                  |\n",
            "|  GPU   GI   CI        PID   Type   Process name                  GPU Memory |\n",
            "|        ID   ID                                                   Usage      |\n",
            "|=============================================================================|\n",
            "|  No running processes found                                                 |\n",
            "+-----------------------------------------------------------------------------+\n"
          ],
          "name": "stdout"
        }
      ]
    },
    {
      "cell_type": "markdown",
      "metadata": {
        "id": "5h6S3Ne4FyMc"
      },
      "source": [
        "In the previous exercise, we defined the dataset and the data loader manually. It is easier to define the dataset as `torch.utils.data.Dataset`. The class must have at least two functions: `__getitem__` and `__len__`. See https://pytorch.org/docs/stable/data.html#torch.utils.data.Dataset and the example below to see how to use it. It is essential that you understand what these two functions do. The following defines the behaviour of the C&D dataset.\n",
        "\n"
      ]
    },
    {
      "cell_type": "code",
      "metadata": {
        "id": "XXlzTEuuFyjS"
      },
      "source": [
        "import torch\n",
        "import torchvision\n",
        "import torchvision.transforms as transforms\n",
        "from PIL import Image\n",
        "\n",
        "class catsanddogs(torch.utils.data.Dataset):\n",
        "    def __init__(self, data_path, train, transform=None):\n",
        "\n",
        "        self.transform = transform\n",
        "\n",
        "        if train:\n",
        "          dog_path = os.path.join('/content/drive/My Drive',data_path,'dogs250.npy')\n",
        "          cat_path = os.path.join('/content/drive/My Drive',data_path,'cats250.npy')\n",
        "        else:\n",
        "          dog_path = os.path.join('/content/drive/My Drive',data_path,'dogs_val.npy')\n",
        "          cat_path = os.path.join('/content/drive/My Drive',data_path,'cats_val.npy')\n",
        "\n",
        "        # load imagenet data - this is already in numpy format\n",
        "        cat_imgs = numpy.load(cat_path)\n",
        "        dog_imgs = numpy.load(dog_path)\n",
        "\n",
        "        # change linear array to 3D matrices\n",
        "        cat_imgs = cat_imgs.reshape((-1,3,32,32))\n",
        "        dog_imgs = dog_imgs.reshape((-1,3,32,32))\n",
        "\n",
        "        # make labels\n",
        "        self.data   = numpy.concatenate((cat_imgs,dog_imgs),axis=0)\n",
        "        self.data   = self.data.transpose((0, 2, 3, 1))\n",
        "        self.label  = numpy.array([0]*len(cat_imgs)+[1]*len(dog_imgs))\n",
        "\n",
        "        print('Size of data is', self.data.shape)\n",
        "        print('Size of label is',self.label.shape)\n",
        "\n",
        "    def __getitem__(self, index):\n",
        "\n",
        "      img, target = self.data[index], self.label[index]\n",
        "      img = Image.fromarray(img)\n",
        "      if self.transform is not None:\n",
        "            img = self.transform(img)\n",
        "      return img, target\n",
        "\n",
        "    def __len__(self):\n",
        "      return len(self.data)"
      ],
      "execution_count": null,
      "outputs": []
    },
    {
      "cell_type": "markdown",
      "metadata": {
        "id": "NaN142Nccg_5"
      },
      "source": [
        "Define the transformation that turns PIL image into normalised Pytorch input.\n",
        "\n",
        "**Do not change the following section.**"
      ]
    },
    {
      "cell_type": "code",
      "metadata": {
        "id": "K5WYE6GychWC"
      },
      "source": [
        "# Transformation to normalize\n",
        "transform = transforms.Compose(\n",
        "    [transforms.ToTensor(),\n",
        "     transforms.Normalize((0.5, 0.5, 0.5), (0.5, 0.5, 0.5))])\n",
        "\n",
        "batch_size = 100"
      ],
      "execution_count": null,
      "outputs": []
    },
    {
      "cell_type": "markdown",
      "metadata": {
        "id": "w1MxQ0sO5aTN"
      },
      "source": [
        "Call the dataset and initiate the loader."
      ]
    },
    {
      "cell_type": "code",
      "metadata": {
        "id": "f7bL0mgk5ald",
        "outputId": "38356435-f6c5-4a7f-93c9-cd4f5bcc7600",
        "colab": {
          "base_uri": "https://localhost:8080/",
          "height": 85
        }
      },
      "source": [
        "trainset = catsanddogs(FOLDER, train=True, transform=transform)\n",
        "testset   = catsanddogs(FOLDER, train=False, transform=transform)\n",
        "\n",
        "cndtrainloader = torch.utils.data.DataLoader(trainset, batch_size=batch_size,\n",
        "                                          shuffle=True, num_workers=2)\n",
        "cndtestloader = torch.utils.data.DataLoader(testset, batch_size=batch_size,\n",
        "                                          shuffle=True, num_workers=2)\n",
        "\n",
        "classes = ('cat','dog')"
      ],
      "execution_count": null,
      "outputs": [
        {
          "output_type": "stream",
          "text": [
            "Size of data is (500, 32, 32, 3)\n",
            "Size of label is (500,)\n",
            "Size of data is (500, 32, 32, 3)\n",
            "Size of label is (500,)\n"
          ],
          "name": "stdout"
        }
      ]
    },
    {
      "cell_type": "markdown",
      "metadata": {
        "id": "6OZxMQHs5jLU"
      },
      "source": [
        "This script helps you visualise the input as a form of sanity check."
      ]
    },
    {
      "cell_type": "code",
      "metadata": {
        "id": "cnzuHl7b5jk9",
        "outputId": "0ea04f4f-696c-4949-b8d1-0e24dc6834c3",
        "colab": {
          "base_uri": "https://localhost:8080/",
          "height": 155
        }
      },
      "source": [
        "import matplotlib.pyplot as plt\n",
        "import torchvision\n",
        "# functions to show an image\n",
        "\n",
        "def imshow(img):\n",
        "    img = img / 2 + 0.5     # unnormalize\n",
        "    npimg = img.numpy()\n",
        "    plt.imshow(numpy.transpose(npimg, (1, 2, 0)))\n",
        "\n",
        "# get some random training images\n",
        "dataiter = iter(cndtestloader)\n",
        "images, labels = dataiter.next()\n",
        "\n",
        "images = images[:5,:,:,:]\n",
        "\n",
        "print(torch.mean(images.type(torch.FloatTensor)))\n",
        "\n",
        "# show images\n",
        "imshow(torchvision.utils.make_grid(images))\n",
        "# print labels\n",
        "print(' '.join('%5s' % classes[labels[j]] for j in range(len(images))))"
      ],
      "execution_count": null,
      "outputs": [
        {
          "output_type": "stream",
          "text": [
            "tensor(0.0781)\n",
            "  dog   dog   cat   dog   dog\n"
          ],
          "name": "stdout"
        },
        {
          "output_type": "display_data",
          "data": {
            "image/png": "[encoded data removed]",
            "text/plain": [
              "<Figure size 432x288 with 1 Axes>"
            ]
          },
          "metadata": {
            "tags": [],
            "needs_background": "light"
          }
        }
      ]
    },
    {
      "cell_type": "markdown",
      "metadata": {
        "id": "F0SI2_VKGSi5"
      },
      "source": [
        "We define the model and the optimizer. The model contains two conv layers followed by a set of fully connected layers. The output dimension of the last FC layer (fc3) must be the number of output classes (e.g. 10 for CIFAR 10).\n",
        "\n",
        "Redundant classes (more classes than necessary) usually do not have much negative effect on performance as long as the network is trained for long enough, but you can never have fewer classes than in the dataset.\n",
        "\n",
        "**Do not change the following section, since I want everyone to use the same architecture.**"
      ]
    },
    {
      "cell_type": "code",
      "metadata": {
        "id": "gWk4Z5trGSCq",
        "outputId": "54663a68-9b52-4019-87cc-7c15b8169d1f",
        "colab": {
          "base_uri": "https://localhost:8080/",
          "height": 34
        }
      },
      "source": [
        "import torch.nn as nn\n",
        "import torch.nn.functional as F\n",
        "\n",
        "## We define the model.\n",
        "class CNN(nn.Module):\n",
        "    \"\"\"CNN.\"\"\"\n",
        "\n",
        "    def __init__(self):\n",
        "        \"\"\"CNN Builder.\"\"\"\n",
        "        super(CNN, self).__init__()\n",
        "\n",
        "        self.conv_layer = nn.Sequential(\n",
        "\n",
        "            # Conv Layer block 1\n",
        "            nn.Conv2d(in_channels=3, out_channels=32, kernel_size=3, padding=1),\n",
        "            nn.BatchNorm2d(32),\n",
        "            nn.ReLU(inplace=True),\n",
        "            nn.Conv2d(in_channels=32, out_channels=64, kernel_size=3, padding=1),\n",
        "            nn.ReLU(inplace=True),\n",
        "            nn.MaxPool2d(kernel_size=2, stride=2),\n",
        "\n",
        "            # Conv Layer block 2\n",
        "            nn.Conv2d(in_channels=64, out_channels=128, kernel_size=3, padding=1),\n",
        "            nn.BatchNorm2d(128),\n",
        "            nn.ReLU(inplace=True),\n",
        "            nn.Conv2d(in_channels=128, out_channels=128, kernel_size=3, padding=1),\n",
        "            nn.ReLU(inplace=True),\n",
        "            nn.MaxPool2d(kernel_size=2, stride=2),\n",
        "            nn.Dropout2d(p=0.05),\n",
        "\n",
        "            # Conv Layer block 3\n",
        "            nn.Conv2d(in_channels=128, out_channels=256, kernel_size=3, padding=1),\n",
        "            nn.BatchNorm2d(256),\n",
        "            nn.ReLU(inplace=True),\n",
        "            nn.Conv2d(in_channels=256, out_channels=256, kernel_size=3, padding=1),\n",
        "            nn.ReLU(inplace=True),\n",
        "            nn.MaxPool2d(kernel_size=2, stride=2),\n",
        "\n",
        "            nn.AdaptiveMaxPool2d(1),\n",
        "        )\n",
        "\n",
        "\n",
        "        self.fc_layer = nn.Sequential(\n",
        "            nn.Linear(256, 1024),\n",
        "            nn.ReLU(inplace=True),\n",
        "            nn.Dropout(p=0.1),\n",
        "            nn.Linear(1024, 512),\n",
        "            nn.ReLU(inplace=True),\n",
        "            nn.Dropout(p=0.1),\n",
        "            \n",
        "            nn.Linear(512, 2)\n",
        "        )\n",
        "\n",
        "\n",
        "    def forward(self, x):\n",
        "        \"\"\"Perform forward.\"\"\"\n",
        "        \n",
        "        # conv layers\n",
        "        x = self.conv_layer(x)\n",
        "        \n",
        "        # flatten\n",
        "        x = x.view(x.size(0), -1)\n",
        "        \n",
        "        # fc layer\n",
        "        x = self.fc_layer(x)\n",
        "\n",
        "        return x\n",
        "\n",
        "classifier = CNN()\n",
        "\n",
        "## Move model to GPU\n",
        "classifier = classifier.cuda()\n",
        "classifier.train()\n",
        "\n",
        "## We also define the optimizer.\n",
        "optimizer = torch.optim.SGD(classifier.parameters(), lr=0.01, momentum=0.9)\n",
        "\n",
        "print('Network initialised')"
      ],
      "execution_count": null,
      "outputs": [
        {
          "output_type": "stream",
          "text": [
            "Network initialised\n"
          ],
          "name": "stdout"
        }
      ]
    },
    {
      "cell_type": "markdown",
      "metadata": {
        "id": "AxAfzL3sJZs_"
      },
      "source": [
        "Now, we train the network. \n",
        "\n",
        "We test the trained model for 50 epochs. An epoch is defined as one full pass through the training data.\n",
        "\n",
        "This will take a few minutes to run."
      ]
    },
    {
      "cell_type": "code",
      "metadata": {
        "id": "b0jIbXE6JZ7p"
      },
      "source": [
        "def train_network(net, trainloader, testloader, optimizer, max_epoch=50):\n",
        "\n",
        "  ## We also define the loss function.\n",
        "  criterion = torch.nn.CrossEntropyLoss()\n",
        "\n",
        "  for epoch in range(0, max_epoch):\n",
        "\n",
        "    ## Put the network in training mode\n",
        "    net.train()\n",
        "\n",
        "    correct = 0\n",
        "    total = 0\n",
        "\n",
        "    for it, data in enumerate(trainloader, 0):\n",
        "\n",
        "      # get the inputs\n",
        "      x_batch, y_batch = data\n",
        "      x_batch = x_batch.cuda()\n",
        "      y_batch = y_batch.cuda()\n",
        "\n",
        "      ## Forward pass through the network\n",
        "      y_pred = net(x_batch).squeeze()\n",
        "      loss = criterion(y_pred,y_batch)\n",
        "\n",
        "      ## Backward pass\n",
        "      loss.backward()\n",
        "\n",
        "      ## Optimizer step\n",
        "      optimizer.step()\n",
        "      optimizer.zero_grad()\n",
        "\n",
        "      ## Calculate accuracy\n",
        "      _, label_pred = torch.max(y_pred, 1)\n",
        "      total   += y_batch.size(0)\n",
        "      correct += (label_pred == y_batch).sum().item()\n",
        "\n",
        "    train_acc = 100 * correct / total\n",
        "\n",
        "    ## After every epoch, check the test performance\n",
        "\n",
        "    ## Put the network in test mode\n",
        "    net.eval()\n",
        "\n",
        "    correct = 0\n",
        "    total = 0\n",
        "    \n",
        "    for data in testloader:\n",
        "\n",
        "      # get the inputs\n",
        "      x_batch, y_batch = data\n",
        "      x_batch = x_batch.cuda()\n",
        "      y_batch = y_batch.cuda()\n",
        "\n",
        "      ## Forward pass through the network without gradient computation\n",
        "      with torch.no_grad():\n",
        "        y_pred  = net(x_batch)\n",
        "        _, label_pred = torch.max(y_pred.data, 1)\n",
        "        total   += y_batch.size(0)\n",
        "        correct += (label_pred == y_batch).sum().item()\n",
        "\n",
        "    test_acc = 100 * correct / total\n",
        "\n",
        "    print('Epoch','{:d}'.format(epoch),'Loss','{:.3f}'.format(loss.item()),'Train accuracy','{:.1f}'.format(train_acc),'Test accuracy','{:.1f}'.format(test_acc))\n",
        "\n"
      ],
      "execution_count": null,
      "outputs": []
    },
    {
      "cell_type": "markdown",
      "metadata": {
        "id": "8A5ISwP598kr"
      },
      "source": [
        "Having defined the training function, actually train the network"
      ]
    },
    {
      "cell_type": "code",
      "metadata": {
        "id": "y8fZ5XAQ98QL",
        "outputId": "71e4ed12-69c9-44b8-fa09-6052293dfa0f",
        "colab": {
          "base_uri": "https://localhost:8080/",
          "height": 1000
        }
      },
      "source": [
        "train_network(classifier,cndtrainloader,cndtestloader,optimizer,max_epoch=100)"
      ],
      "execution_count": null,
      "outputs": [
        {
          "output_type": "stream",
          "text": [
            "Epoch 0 Loss 0.694 Train accuracy 50.0 Test accuracy 50.0\n",
            "Epoch 1 Loss 0.683 Train accuracy 53.6 Test accuracy 50.0\n",
            "Epoch 2 Loss 0.683 Train accuracy 57.8 Test accuracy 50.0\n",
            "Epoch 3 Loss 0.700 Train accuracy 55.2 Test accuracy 50.0\n",
            "Epoch 4 Loss 0.663 Train accuracy 63.6 Test accuracy 50.0\n",
            "Epoch 5 Loss 0.650 Train accuracy 65.0 Test accuracy 50.0\n",
            "Epoch 6 Loss 0.664 Train accuracy 65.8 Test accuracy 49.8\n",
            "Epoch 7 Loss 0.550 Train accuracy 70.4 Test accuracy 51.6\n",
            "Epoch 8 Loss 0.561 Train accuracy 70.8 Test accuracy 50.4\n",
            "Epoch 9 Loss 0.553 Train accuracy 72.8 Test accuracy 50.0\n",
            "Epoch 10 Loss 0.446 Train accuracy 77.2 Test accuracy 50.0\n",
            "Epoch 11 Loss 0.332 Train accuracy 81.8 Test accuracy 50.6\n",
            "Epoch 12 Loss 0.346 Train accuracy 89.6 Test accuracy 61.8\n",
            "Epoch 13 Loss 0.259 Train accuracy 94.8 Test accuracy 53.0\n",
            "Epoch 14 Loss 0.165 Train accuracy 95.2 Test accuracy 58.0\n",
            "Epoch 15 Loss 0.111 Train accuracy 98.2 Test accuracy 66.0\n",
            "Epoch 16 Loss 0.032 Train accuracy 98.8 Test accuracy 55.6\n",
            "Epoch 17 Loss 0.330 Train accuracy 95.8 Test accuracy 54.6\n",
            "Epoch 18 Loss 0.200 Train accuracy 94.2 Test accuracy 50.0\n",
            "Epoch 19 Loss 0.578 Train accuracy 89.4 Test accuracy 54.0\n",
            "Epoch 20 Loss 0.974 Train accuracy 70.6 Test accuracy 50.4\n",
            "Epoch 21 Loss 0.465 Train accuracy 75.2 Test accuracy 50.0\n",
            "Epoch 22 Loss 0.488 Train accuracy 73.4 Test accuracy 61.2\n",
            "Epoch 23 Loss 0.474 Train accuracy 71.8 Test accuracy 54.6\n",
            "Epoch 24 Loss 0.388 Train accuracy 81.2 Test accuracy 64.4\n",
            "Epoch 25 Loss 0.290 Train accuracy 84.8 Test accuracy 62.6\n",
            "Epoch 26 Loss 0.203 Train accuracy 89.2 Test accuracy 67.6\n",
            "Epoch 27 Loss 0.146 Train accuracy 93.8 Test accuracy 65.6\n",
            "Epoch 28 Loss 0.061 Train accuracy 95.2 Test accuracy 54.4\n",
            "Epoch 29 Loss 0.057 Train accuracy 98.6 Test accuracy 66.6\n",
            "Epoch 30 Loss 0.028 Train accuracy 99.0 Test accuracy 63.4\n",
            "Epoch 31 Loss 0.066 Train accuracy 98.4 Test accuracy 65.6\n",
            "Epoch 32 Loss 0.104 Train accuracy 97.8 Test accuracy 64.4\n",
            "Epoch 33 Loss 0.059 Train accuracy 97.6 Test accuracy 58.0\n",
            "Epoch 34 Loss 0.080 Train accuracy 96.2 Test accuracy 62.8\n",
            "Epoch 35 Loss 0.495 Train accuracy 94.0 Test accuracy 67.0\n",
            "Epoch 36 Loss 0.143 Train accuracy 94.6 Test accuracy 59.2\n",
            "Epoch 37 Loss 0.077 Train accuracy 95.2 Test accuracy 64.6\n",
            "Epoch 38 Loss 0.056 Train accuracy 96.4 Test accuracy 58.8\n",
            "Epoch 39 Loss 0.051 Train accuracy 96.0 Test accuracy 68.0\n",
            "Epoch 40 Loss 0.053 Train accuracy 98.6 Test accuracy 70.2\n",
            "Epoch 41 Loss 0.048 Train accuracy 99.4 Test accuracy 69.8\n",
            "Epoch 42 Loss 0.015 Train accuracy 99.4 Test accuracy 70.8\n",
            "Epoch 43 Loss 0.019 Train accuracy 100.0 Test accuracy 65.0\n",
            "Epoch 44 Loss 0.005 Train accuracy 99.6 Test accuracy 66.2\n",
            "Epoch 45 Loss 0.005 Train accuracy 99.8 Test accuracy 67.0\n",
            "Epoch 46 Loss 0.006 Train accuracy 99.8 Test accuracy 67.4\n",
            "Epoch 47 Loss 0.002 Train accuracy 100.0 Test accuracy 68.0\n",
            "Epoch 48 Loss 0.005 Train accuracy 100.0 Test accuracy 67.4\n",
            "Epoch 49 Loss 0.002 Train accuracy 100.0 Test accuracy 67.6\n",
            "Epoch 50 Loss 0.001 Train accuracy 100.0 Test accuracy 66.6\n",
            "Epoch 51 Loss 0.000 Train accuracy 100.0 Test accuracy 66.0\n",
            "Epoch 52 Loss 0.001 Train accuracy 100.0 Test accuracy 65.8\n",
            "Epoch 53 Loss 0.001 Train accuracy 100.0 Test accuracy 65.2\n",
            "Epoch 54 Loss 0.000 Train accuracy 100.0 Test accuracy 66.6\n",
            "Epoch 55 Loss 0.000 Train accuracy 100.0 Test accuracy 66.6\n",
            "Epoch 56 Loss 0.000 Train accuracy 100.0 Test accuracy 67.2\n",
            "Epoch 57 Loss 0.000 Train accuracy 100.0 Test accuracy 67.8\n",
            "Epoch 58 Loss 0.000 Train accuracy 100.0 Test accuracy 68.2\n",
            "Epoch 59 Loss 0.000 Train accuracy 100.0 Test accuracy 68.6\n",
            "Epoch 60 Loss 0.000 Train accuracy 100.0 Test accuracy 68.6\n",
            "Epoch 61 Loss 0.000 Train accuracy 100.0 Test accuracy 68.6\n",
            "Epoch 62 Loss 0.000 Train accuracy 100.0 Test accuracy 68.8\n",
            "Epoch 63 Loss 0.000 Train accuracy 100.0 Test accuracy 68.6\n",
            "Epoch 64 Loss 0.000 Train accuracy 100.0 Test accuracy 68.8\n",
            "Epoch 65 Loss 0.001 Train accuracy 100.0 Test accuracy 68.8\n",
            "Epoch 66 Loss 0.000 Train accuracy 100.0 Test accuracy 68.6\n",
            "Epoch 67 Loss 0.000 Train accuracy 100.0 Test accuracy 68.4\n",
            "Epoch 68 Loss 0.000 Train accuracy 100.0 Test accuracy 68.4\n",
            "Epoch 69 Loss 0.000 Train accuracy 100.0 Test accuracy 68.4\n",
            "Epoch 70 Loss 0.000 Train accuracy 100.0 Test accuracy 68.6\n",
            "Epoch 71 Loss 0.000 Train accuracy 100.0 Test accuracy 68.4\n",
            "Epoch 72 Loss 0.000 Train accuracy 100.0 Test accuracy 68.4\n",
            "Epoch 73 Loss 0.000 Train accuracy 100.0 Test accuracy 68.6\n",
            "Epoch 74 Loss 0.000 Train accuracy 100.0 Test accuracy 68.6\n",
            "Epoch 75 Loss 0.000 Train accuracy 100.0 Test accuracy 68.4\n",
            "Epoch 76 Loss 0.000 Train accuracy 100.0 Test accuracy 68.4\n",
            "Epoch 77 Loss 0.000 Train accuracy 100.0 Test accuracy 68.6\n",
            "Epoch 78 Loss 0.000 Train accuracy 100.0 Test accuracy 68.6\n",
            "Epoch 79 Loss 0.000 Train accuracy 100.0 Test accuracy 68.4\n",
            "Epoch 80 Loss 0.000 Train accuracy 100.0 Test accuracy 68.4\n",
            "Epoch 81 Loss 0.000 Train accuracy 100.0 Test accuracy 68.2\n",
            "Epoch 82 Loss 0.000 Train accuracy 100.0 Test accuracy 68.4\n",
            "Epoch 83 Loss 0.000 Train accuracy 100.0 Test accuracy 68.4\n",
            "Epoch 84 Loss 0.000 Train accuracy 100.0 Test accuracy 68.4\n",
            "Epoch 85 Loss 0.000 Train accuracy 100.0 Test accuracy 68.6\n",
            "Epoch 86 Loss 0.000 Train accuracy 100.0 Test accuracy 68.4\n",
            "Epoch 87 Loss 0.000 Train accuracy 100.0 Test accuracy 68.6\n",
            "Epoch 88 Loss 0.000 Train accuracy 100.0 Test accuracy 68.6\n",
            "Epoch 89 Loss 0.000 Train accuracy 100.0 Test accuracy 68.6\n",
            "Epoch 90 Loss 0.000 Train accuracy 100.0 Test accuracy 68.4\n",
            "Epoch 91 Loss 0.000 Train accuracy 100.0 Test accuracy 68.2\n",
            "Epoch 92 Loss 0.000 Train accuracy 100.0 Test accuracy 68.2\n",
            "Epoch 93 Loss 0.000 Train accuracy 100.0 Test accuracy 68.2\n",
            "Epoch 94 Loss 0.000 Train accuracy 100.0 Test accuracy 68.2\n",
            "Epoch 95 Loss 0.000 Train accuracy 100.0 Test accuracy 68.2\n",
            "Epoch 96 Loss 0.000 Train accuracy 100.0 Test accuracy 68.2\n",
            "Epoch 97 Loss 0.000 Train accuracy 100.0 Test accuracy 68.2\n",
            "Epoch 98 Loss 0.000 Train accuracy 100.0 Test accuracy 68.2\n",
            "Epoch 99 Loss 0.000 Train accuracy 100.0 Test accuracy 68.2\n"
          ],
          "name": "stdout"
        }
      ]
    },
    {
      "cell_type": "markdown",
      "metadata": {
        "id": "A_PkS90FQNUb"
      },
      "source": [
        "Evaluate test performance offline\n",
        "\n"
      ]
    },
    {
      "cell_type": "code",
      "metadata": {
        "id": "PNpnbwOuxI8H",
        "outputId": "8597102f-6bd6-4030-b1bd-61d864e69ecf",
        "colab": {
          "base_uri": "https://localhost:8080/",
          "height": 51
        }
      },
      "source": [
        "correct = 0\n",
        "total = 0\n",
        "\n",
        "for data in cndtestloader:\n",
        "\n",
        "  # get the inputs\n",
        "  x_batch, y_batch = data\n",
        "  x_batch = x_batch.cuda()\n",
        "  y_batch = y_batch.cuda()\n",
        "\n",
        "  with torch.no_grad():\n",
        "    ## Forward pass through the network\n",
        "    y_pred  = classifier(x_batch)\n",
        "    _, label_pred = torch.max(y_pred.data, 1)\n",
        "    total   += y_batch.size(0)\n",
        "    correct += (label_pred == y_batch).sum().item()\n",
        "\n",
        "print('Test set size is %d'%(total))\n",
        "print('Accuracy over the whole test set is %.3f percent' % (100 * correct / total) )"
      ],
      "execution_count": null,
      "outputs": [
        {
          "output_type": "stream",
          "text": [
            "Test set size is 500\n",
            "Accuracy over the whole test set is 68.200 percent\n"
          ],
          "name": "stdout"
        }
      ]
    },
    {
      "cell_type": "markdown",
      "metadata": {
        "id": "DE8pwM1zxJ2r"
      },
      "source": [
        "Try your own image. I recommend that you use an image in JPG format."
      ]
    },
    {
      "cell_type": "code",
      "metadata": {
        "id": "riseAs1tQO7b",
        "outputId": "29fb6828-d6ac-4b27-eb1a-cbb0446960eb",
        "colab": {
          "base_uri": "https://localhost:8080/",
          "height": 300
        }
      },
      "source": [
        "## Read image from file and resize to 64 x 64\n",
        "image = Image.open(os.path.join('/content/drive/My Drive',FOLDER,'아갱1.jpg')).resize((32,32))\n",
        "\n",
        "## Convert PIL image to network input as given by\n",
        "x = transform(image).unsqueeze(0)\n",
        "\n",
        "## Check that the dimension is the same as in training\n",
        "print('Size of x is',x.size())\n",
        "\n",
        "classifier.eval()\n",
        "\n",
        "with torch.no_grad():\n",
        "  y_pred = classifier(x.cuda())\n",
        "  y_prob = torch.nn.functional.softmax(y_pred,dim=1)\n",
        "\n",
        "plt.imshow(image, cmap='gray')\n",
        "\n",
        "print('Output is',classes[torch.argmax(y_prob)],'with probability',torch.max(y_prob).item())"
      ],
      "execution_count": null,
      "outputs": [
        {
          "output_type": "stream",
          "text": [
            "Size of x is torch.Size([1, 3, 32, 32])\n",
            "Output is dog with probability 0.9086529016494751\n"
          ],
          "name": "stdout"
        },
        {
          "output_type": "display_data",
          "data": {
            "image/png": "[encoded data removed]",
            "text/plain": [
              "<Figure size 432x288 with 1 Axes>"
            ]
          },
          "metadata": {
            "tags": [],
            "needs_background": "light"
          }
        }
      ]
    },
    {
      "cell_type": "markdown",
      "metadata": {
        "id": "ORy-kyamA3P_"
      },
      "source": [
        "The code to download the CIFAR10 dataset is in the `torchvision` package. You can call the dataset using the following code."
      ]
    },
    {
      "cell_type": "code",
      "metadata": {
        "id": "XW4mlzlv5bH0",
        "outputId": "c1e04266-6119-4847-bd0c-911511489799",
        "colab": {
          "base_uri": "https://localhost:8080/",
          "height": 51
        }
      },
      "source": [
        "cifartrainset = torchvision.datasets.CIFAR10(root='./data', train=True,\n",
        "                                        download=True, transform=transform)\n",
        "cifartrainloader = torch.utils.data.DataLoader(cifartrainset, batch_size=batch_size,\n",
        "                                          shuffle=True, num_workers=2)\n",
        "\n",
        "cifartestset = torchvision.datasets.CIFAR10(root='./data', train=False,\n",
        "                                       download=True, transform=transform)\n",
        "cifartestloader = torch.utils.data.DataLoader(cifartestset, batch_size=batch_size,\n",
        "                                         shuffle=True, num_workers=2)\n",
        "\n",
        "classes = ('plane', 'car', 'bird', 'cat', 'deer', \n",
        "           'dog', 'frog', 'horse', 'ship', 'truck')"
      ],
      "execution_count": null,
      "outputs": [
        {
          "output_type": "stream",
          "text": [
            "Files already downloaded and verified\n",
            "Files already downloaded and verified\n"
          ],
          "name": "stdout"
        }
      ]
    },
    {
      "cell_type": "markdown",
      "metadata": {
        "id": "uUb1mrsGDNar"
      },
      "source": [
        "Please do the following.\n",
        "\n",
        "0.   Visualise the CIFAR dataset\n",
        "1.   Change the number of model output classes to 10, and re-initialise the network.\n",
        "2.   Train the network on CIFAR train set for 20 epochs. The performance on CIFAR test set should be around 83%.\n",
        "3.   Evaluate the network on C&D test set. (Requires some thought!)\n",
        "4.   Finetune all layers C&D train set for 50 epochs. Set learning rate for `conv_layer` as 0.001 and for `fc_layer` as 0.01. You will need to define a new optimizer.\n",
        "5.   Re-evaluate the network on C&D test set.\n",
        "\n",
        "Show the code that you wrote to do the assignment. You may choose to define functions for training, testing, etc., but how you organise the code is completely up to you.\n",
        "\n",
        "**Something to think about**: cats and dogs are classes 0 and 1 in the C&D datasets, but classes 3 and 5 in the CIFAR10 dataset. How would you use the network trained on CIFAR10 training set and then test on the C&D test set? Hint: there are many ways to do this, but consider changing the following lines in the sections above:\n",
        "\n",
        "\n",
        "```\n",
        "self.label  = numpy.array([0]*len(cat_imgs)+[1]*len(dog_imgs))\n",
        "...\n",
        "classes = ('cat','dog')\n",
        "...\n",
        "nn.Linear(512, 2)\n",
        "```\n",
        "\n",
        "You can define different learning rates for different layers as follows. The following would set LR of 0.1 to `layer1` and 0.01 to `layer2`.\n",
        "\n",
        "```\n",
        "optimizer2 = torch.optim.SGD([\n",
        "                {'params': net.layer1.parameters()},\n",
        "                {'params': net.layer2.parameters(), 'lr': 0.01}\n",
        "            ], lr=0.1, momentum=0.9)\n",
        "```\n",
        "\n",
        "Finally, fill the following table. The results will vary slightly every time you run the code, because of the randomness in batch formation and network initialisation. However, the results should be quite similar for everyone.\n",
        "\n",
        "\n"
      ]
    },
    {
      "cell_type": "markdown",
      "metadata": {
        "id": "FPsu7yMrIdcG"
      },
      "source": [
        "### Results tested on the C&D test set\n",
        "\n",
        "Remember you are reporting the test accuracy on the **C&D** test set, not CIFAR10 test set. The evaluation should be done offline (outside of the training function).\n",
        "\n",
        "Expected results are approximate.\n",
        "\n",
        "| Train set                           | Test set   | Your result | Expected result |\n",
        "|------------------------------------|-------------|-------------|-----------------|\n",
        "| C&D train set          |      C&D test set       |    68.2%   |    70%          |\n",
        "| CIFAR10 train set       |      C&D test set       |    66.2%       |    70%          |\n",
        "| CIFAR10 train set, FT on C&D train set |  C&D test set    |     77.4%      |    77%          |\n",
        "\n",
        "\n",
        "\n",
        "If you have any comments or difficulties, please write below.\n",
        "\n",
        "[*Write here*]\n",
        "\n",
        "\n"
      ]
    },
    {
      "cell_type": "markdown",
      "metadata": {
        "id": "x8WY0tPgQE1t"
      },
      "source": [
        "## Write your code below"
      ]
    },
    {
      "cell_type": "markdown",
      "metadata": {
        "id": "wkuAwnN8maeN"
      },
      "source": [
        "**0. Visualising the CIFAR dataset:** similarly to the cats and dogs dataset we retrieve random training images from the dataset using the dataloader. We print 8 examples and we can already see some examples for cats and dogs in the dataset."
      ]
    },
    {
      "cell_type": "code",
      "metadata": {
        "id": "1xLWPfOOQKau",
        "outputId": "8299fa50-cb31-419e-eb9b-a0d7d1dd99fc",
        "colab": {
          "base_uri": "https://localhost:8080/",
          "height": 146
        }
      },
      "source": [
        "# get some random training images\n",
        "dataiter = iter(cifartrainloader)\n",
        "images, labels = dataiter.next()\n",
        "\n",
        "print(\"Data dimensions:\", images.size(), labels.size())\n",
        "\n",
        "images = images[:8,:,:,:]\n",
        "\n",
        "print(torch.mean(images.type(torch.FloatTensor)))\n",
        "\n",
        "# show images\n",
        "imshow(torchvision.utils.make_grid(images))\n",
        "\n",
        "# print labels\n",
        "print(' '.join('%5s' % classes[labels[j]] for j in range(len(images))))"
      ],
      "execution_count": null,
      "outputs": [
        {
          "output_type": "stream",
          "text": [
            "Data dimensions: torch.Size([100, 3, 32, 32]) torch.Size([100])\n",
            "tensor(0.0931)\n",
            " bird  frog plane   car truck   car  ship   dog\n"
          ],
          "name": "stdout"
        },
        {
          "output_type": "display_data",
          "data": {
            "image/png": "[encoded data removed]",
            "text/plain": [
              "<Figure size 432x288 with 1 Axes>"
            ]
          },
          "metadata": {
            "tags": [],
            "needs_background": "light"
          }
        }
      ]
    },
    {
      "cell_type": "markdown",
      "metadata": {
        "id": "zKTb6auHoSEF"
      },
      "source": [
        "Next, let us specifically look at some examples for cats and dogs in the CIFAR dataset vs examples in the cats vs dogs test set, since the shared features between these will be relevant to our test case. In particular, differences in the data distributions can have an impact on final classification accuracy."
      ]
    },
    {
      "cell_type": "code",
      "metadata": {
        "id": "pzkUp7v9omBU",
        "outputId": "94789df5-f3ba-42fd-baeb-f710da9abe5e",
        "colab": {
          "base_uri": "https://localhost:8080/",
          "height": 127
        }
      },
      "source": [
        "cndimages, cndlabels = iter(cndtestloader).next()\n",
        "cifarimages, cifarlabels = iter(cifartrainloader).next()\n",
        "\n",
        "# only keep dog and cat examples for CIFAR, filter out the rest\n",
        "cifarimages = [cifarimages[i,:,:,:].unsqueeze(0) for i in range(100) if cifarlabels[i] in [3,5]]\n",
        "cifarimages = torch.cat(cifarimages, axis=0)\n",
        "\n",
        "cndimages = cndimages[:3,:,:,:]\n",
        "cifarimages = cifarimages[:3,:,:,:]\n",
        "images = torch.cat([cifarimages[:4,:,:,:], cndimages[:4,:,:,:]], axis=0)\n",
        "labels = torch.cat([cifarlabels[:4], cndlabels[:4]], axis=0)\n",
        "\n",
        "# show images\n",
        "imshow(torchvision.utils.make_grid(images))\n",
        "\n",
        "# print labels\n",
        "print('  CIFAR ' * 3 + ' C&D  ' * 3)"
      ],
      "execution_count": null,
      "outputs": [
        {
          "output_type": "stream",
          "text": [
            "  CIFAR   CIFAR   CIFAR  C&D   C&D   C&D  \n"
          ],
          "name": "stdout"
        },
        {
          "output_type": "display_data",
          "data": {
            "image/png": "[encoded data removed]",
            "text/plain": [
              "<Figure size 432x288 with 1 Axes>"
            ]
          },
          "metadata": {
            "tags": [],
            "needs_background": "light"
          }
        }
      ]
    },
    {
      "cell_type": "markdown",
      "metadata": {
        "id": "RRcthhoJuYTV"
      },
      "source": [
        "We can see that the images are relatively similar (at least for these sampled example images) and there appear to be no major differences between the datasets such as backgrounds having been removed, etc.\n",
        "\n",
        "**1. Changing the number of model output classes to 10, and re-initialising the network:** This has been done in the code below by simply changing the final nn.Linear() to have an output dimension of 10 and then initializing this new CNN. The code is copy-pasted from above for convenience so that we can run this notebook from top to bottom rather than manually changing the output dimension and re-running the cell every time we want to re-run the notebook."
      ]
    },
    {
      "cell_type": "code",
      "metadata": {
        "id": "5y6fvQ5lNPRb",
        "outputId": "23a4b11f-1c2c-4d36-d187-859b38fa2d98",
        "colab": {
          "base_uri": "https://localhost:8080/",
          "height": 34
        }
      },
      "source": [
        "## Architecture is copy-pasted from above architecture (simply for convenience of being able to run this notebook from top to bottom)\n",
        "class CNN(nn.Module):\n",
        "    \"\"\"CNN.\"\"\"\n",
        "\n",
        "    def __init__(self):\n",
        "        \"\"\"CNN Builder.\"\"\"\n",
        "        super(CNN, self).__init__()\n",
        "\n",
        "        self.conv_layer = nn.Sequential(\n",
        "\n",
        "            # Conv Layer block 1\n",
        "            nn.Conv2d(in_channels=3, out_channels=32, kernel_size=3, padding=1),\n",
        "            nn.BatchNorm2d(32),\n",
        "            nn.ReLU(inplace=True),\n",
        "            nn.Conv2d(in_channels=32, out_channels=64, kernel_size=3, padding=1),\n",
        "            nn.ReLU(inplace=True),\n",
        "            nn.MaxPool2d(kernel_size=2, stride=2),\n",
        "\n",
        "            # Conv Layer block 2\n",
        "            nn.Conv2d(in_channels=64, out_channels=128, kernel_size=3, padding=1),\n",
        "            nn.BatchNorm2d(128),\n",
        "            nn.ReLU(inplace=True),\n",
        "            nn.Conv2d(in_channels=128, out_channels=128, kernel_size=3, padding=1),\n",
        "            nn.ReLU(inplace=True),\n",
        "            nn.MaxPool2d(kernel_size=2, stride=2),\n",
        "            nn.Dropout2d(p=0.05),\n",
        "\n",
        "            # Conv Layer block 3\n",
        "            nn.Conv2d(in_channels=128, out_channels=256, kernel_size=3, padding=1),\n",
        "            nn.BatchNorm2d(256),\n",
        "            nn.ReLU(inplace=True),\n",
        "            nn.Conv2d(in_channels=256, out_channels=256, kernel_size=3, padding=1),\n",
        "            nn.ReLU(inplace=True),\n",
        "            nn.MaxPool2d(kernel_size=2, stride=2),\n",
        "\n",
        "            nn.AdaptiveMaxPool2d(1),\n",
        "        )\n",
        "\n",
        "\n",
        "        self.fc_layer = nn.Sequential(\n",
        "            nn.Linear(256, 1024),\n",
        "            nn.ReLU(inplace=True),\n",
        "            nn.Dropout(p=0.1),\n",
        "            nn.Linear(1024, 512),\n",
        "            nn.ReLU(inplace=True),\n",
        "            nn.Dropout(p=0.1),\n",
        "            \n",
        "            nn.Linear(512, 10)\n",
        "        )\n",
        "\n",
        "\n",
        "    def forward(self, x):\n",
        "        \"\"\"Perform forward.\"\"\"\n",
        "        \n",
        "        # conv layers\n",
        "        x = self.conv_layer(x)\n",
        "        \n",
        "        # flatten\n",
        "        x = x.view(x.size(0), -1)\n",
        "        \n",
        "        # fc layer\n",
        "        x = self.fc_layer(x)\n",
        "\n",
        "        return x\n",
        "\n",
        "classifier = CNN()\n",
        "\n",
        "## Move model to GPU\n",
        "classifier = classifier.cuda()\n",
        "classifier.train()\n",
        "\n",
        "## We also define the optimizer.\n",
        "optimizer = torch.optim.SGD(classifier.parameters(), lr=0.01, momentum=0.9)\n",
        "\n",
        "print('Network initialised')"
      ],
      "execution_count": null,
      "outputs": [
        {
          "output_type": "stream",
          "text": [
            "Network initialised\n"
          ],
          "name": "stdout"
        }
      ]
    },
    {
      "cell_type": "markdown",
      "metadata": {
        "id": "qAAVjr5FNtCe"
      },
      "source": [
        "**2.   Train the network on CIFAR train set for 20 epochs:** We run the re-initialized CNN model with the provided training function by simply providing the CIFAR train and test loaders."
      ]
    },
    {
      "cell_type": "code",
      "metadata": {
        "id": "1d11nAneuk3r",
        "outputId": "762a9586-dd2b-492e-ec0f-47451c12a652",
        "colab": {
          "base_uri": "https://localhost:8080/",
          "height": 357
        }
      },
      "source": [
        "train_network(classifier, cifartrainloader, cifartestloader, optimizer, max_epoch=20)"
      ],
      "execution_count": null,
      "outputs": [
        {
          "output_type": "stream",
          "text": [
            "Epoch 0 Loss 1.142 Train accuracy 44.5 Test accuracy 56.1\n",
            "Epoch 1 Loss 0.762 Train accuracy 69.1 Test accuracy 74.2\n",
            "Epoch 2 Loss 0.653 Train accuracy 77.5 Test accuracy 77.8\n",
            "Epoch 3 Loss 0.771 Train accuracy 82.1 Test accuracy 80.6\n",
            "Epoch 4 Loss 0.481 Train accuracy 85.6 Test accuracy 80.2\n",
            "Epoch 5 Loss 0.369 Train accuracy 87.7 Test accuracy 81.9\n",
            "Epoch 6 Loss 0.213 Train accuracy 89.8 Test accuracy 82.8\n",
            "Epoch 7 Loss 0.240 Train accuracy 91.7 Test accuracy 84.9\n",
            "Epoch 8 Loss 0.164 Train accuracy 93.0 Test accuracy 82.9\n",
            "Epoch 9 Loss 0.217 Train accuracy 94.3 Test accuracy 82.7\n",
            "Epoch 10 Loss 0.281 Train accuracy 95.4 Test accuracy 83.0\n",
            "Epoch 11 Loss 0.075 Train accuracy 96.0 Test accuracy 84.0\n",
            "Epoch 12 Loss 0.097 Train accuracy 96.7 Test accuracy 83.6\n",
            "Epoch 13 Loss 0.093 Train accuracy 97.0 Test accuracy 84.0\n",
            "Epoch 14 Loss 0.094 Train accuracy 97.5 Test accuracy 82.1\n",
            "Epoch 15 Loss 0.091 Train accuracy 97.8 Test accuracy 83.5\n",
            "Epoch 16 Loss 0.099 Train accuracy 98.0 Test accuracy 85.3\n",
            "Epoch 17 Loss 0.034 Train accuracy 98.2 Test accuracy 85.2\n",
            "Epoch 18 Loss 0.049 Train accuracy 98.5 Test accuracy 84.7\n",
            "Epoch 19 Loss 0.060 Train accuracy 98.7 Test accuracy 84.7\n"
          ],
          "name": "stdout"
        }
      ]
    },
    {
      "cell_type": "markdown",
      "metadata": {
        "id": "_HXdmT4GOkfw"
      },
      "source": [
        "**3.   Evaluate the network on C&D test set:** We modify the labels of the C&D dataset to fit the label IDs found in the CIFAR dataset. We define an evaluation function that runs an evluation loop over the entire test set for a given network. It is important to keep in mind that during inference/evaluation we can ignore the other classes and only focus on whether the image is more likely to be a cat or a dog (since there are only cats and dogs in the C&D test set). Then we run said evaluation function for our architecture that has been trained on the CIFAR dataset for 20 epochs. "
      ]
    },
    {
      "cell_type": "code",
      "metadata": {
        "id": "H6hO387CO62r",
        "outputId": "3ed59bf5-908b-470c-a058-3391848272f3",
        "colab": {
          "base_uri": "https://localhost:8080/",
          "height": 153
        }
      },
      "source": [
        "class catsanddogsCIFAR(torch.utils.data.Dataset): # re-defines the cats and dogs dataset with the same IDs for cats and dogs (3 and 5) found in the CIFAR dataset\n",
        "    def __init__(self, data_path, train, transform=None):\n",
        "\n",
        "        self.transform = transform\n",
        "\n",
        "        if train:\n",
        "          dog_path = os.path.join('/content/drive/My Drive',data_path,'dogs250.npy')\n",
        "          cat_path = os.path.join('/content/drive/My Drive',data_path,'cats250.npy')\n",
        "        else:\n",
        "          dog_path = os.path.join('/content/drive/My Drive',data_path,'dogs_val.npy')\n",
        "          cat_path = os.path.join('/content/drive/My Drive',data_path,'cats_val.npy')\n",
        "\n",
        "        # load imagenet data - this is already in numpy format\n",
        "        cat_imgs = numpy.load(cat_path)\n",
        "        dog_imgs = numpy.load(dog_path)\n",
        "\n",
        "        # change linear array to 3D matrices\n",
        "        cat_imgs = cat_imgs.reshape((-1,3,32,32))\n",
        "        dog_imgs = dog_imgs.reshape((-1,3,32,32))\n",
        "\n",
        "        # make labels\n",
        "        self.data   = numpy.concatenate((cat_imgs,dog_imgs),axis=0)\n",
        "        self.data   = self.data.transpose((0, 2, 3, 1))\n",
        "        self.label  = numpy.array([3]*len(cat_imgs)+[5]*len(dog_imgs))\n",
        "\n",
        "        print('Size of data is', self.data.shape)\n",
        "        print('Size of label is',self.label.shape)\n",
        "\n",
        "    def __getitem__(self, index):\n",
        "\n",
        "      img, target = self.data[index], self.label[index]\n",
        "      img = Image.fromarray(img)\n",
        "      if self.transform is not None:\n",
        "            img = self.transform(img)\n",
        "      return img, target\n",
        "\n",
        "    def __len__(self):\n",
        "      return len(self.data)\n",
        "\n",
        "\n",
        "def evaluate(net, testloader):\n",
        "    net.eval() # put the net in eval mode\n",
        "    correct = 0\n",
        "    total = 0\n",
        "    for data in testloader: # iterate over entire test set\n",
        "      # once again get the inputs\n",
        "      x_batch, y_batch = data\n",
        "      x_batch = x_batch.cuda()\n",
        "      y_batch = y_batch.cuda()\n",
        "\n",
        "      with torch.no_grad():\n",
        "        # get the batch\n",
        "        y_pred  = net(x_batch)\n",
        "        batch_size = y_pred.size(0) # assumes batch-first!\n",
        "        \n",
        "        # Below we define a mask that we will use to mask all entries that do not correspond to cats or dogs in the output\n",
        "        mask = torch.zeros(batch_size, 10, dtype=torch.bool) # mask is all zeros\n",
        "        mask[:,3] = True # cats\n",
        "        mask[:,5] = True # dogs\n",
        "        y_pred.data[~mask] = 0 # only keep predictions for cats and dogs\n",
        "\n",
        "        # compute the highest probability label as usual\n",
        "        _, label_pred = torch.max(y_pred.data, 1)\n",
        "        total   += y_batch.size(0)\n",
        "        correct += (label_pred == y_batch).sum().item()\n",
        "\n",
        "    test_acc = 100 * correct / total\n",
        "\n",
        "    print('Test set size is %d'%(total))\n",
        "    print('Accuracy over the whole test set is %.3f percent' % (100 * correct / total))\n",
        "\n",
        "\n",
        "cndcifar_trainset = catsanddogsCIFAR(FOLDER, train=True, transform=transform)\n",
        "cndcifar_testset = catsanddogsCIFAR(FOLDER, train=False, transform=transform)\n",
        "\n",
        "cndcifar_trainloader = torch.utils.data.DataLoader(cndcifar_trainset, batch_size=batch_size,\n",
        "                                          shuffle=True, num_workers=2)\n",
        "cndcifar_testloader = torch.utils.data.DataLoader(cndcifar_testset, batch_size=batch_size,\n",
        "                                          shuffle=True, num_workers=2)\n",
        "\n",
        "classes = {3: 'cat', 5: 'dog'}\n",
        "\n",
        "print(\"\")\n",
        "print(\"Evaluation on C&D test set:\")\n",
        "evaluate(classifier, cndcifar_testloader)"
      ],
      "execution_count": null,
      "outputs": [
        {
          "output_type": "stream",
          "text": [
            "Size of data is (500, 32, 32, 3)\n",
            "Size of label is (500,)\n",
            "Size of data is (500, 32, 32, 3)\n",
            "Size of label is (500,)\n",
            "\n",
            "Evaluation on C&D test set:\n",
            "Test set size is 500\n",
            "Accuracy over the whole test set is 66.200 percent\n"
          ],
          "name": "stdout"
        }
      ]
    },
    {
      "cell_type": "markdown",
      "metadata": {
        "id": "MKS8wiA7O8dJ"
      },
      "source": [
        "**4.   Finetune all layers C&D train set for 50 epochs:** We define a new optimizer and set per-layer learning rates in the optimizer initialization. Specifically, we set the learning rate for `conv_layer` to be 0.001 and for `fc_layer` to be 0.01. Now we finetune the network on the C&D train set by keeping the weights from the previous training step and simply continuing the training using the C&D train dataloader along our new optimizer."
      ]
    },
    {
      "cell_type": "code",
      "metadata": {
        "id": "YScfHkzQVZ9h",
        "outputId": "404f1694-48d7-401e-dd6c-5874bf1c35d8",
        "colab": {
          "base_uri": "https://localhost:8080/",
          "height": 867
        }
      },
      "source": [
        "ft_optimizer = torch.optim.SGD([{'params': classifier.conv_layer.parameters(), 'lr': 0.001},\n",
        "                                {'params': classifier.fc_layer.parameters(), 'lr': 0.01}], lr=0.01, momentum=0.9)\n",
        "\n",
        "train_network(classifier, cndcifar_trainloader, cndcifar_testloader, ft_optimizer, max_epoch=50)"
      ],
      "execution_count": null,
      "outputs": [
        {
          "output_type": "stream",
          "text": [
            "Epoch 0 Loss 1.351 Train accuracy 53.0 Test accuracy 70.4\n",
            "Epoch 1 Loss 0.680 Train accuracy 71.2 Test accuracy 68.2\n",
            "Epoch 2 Loss 0.759 Train accuracy 67.8 Test accuracy 70.6\n",
            "Epoch 3 Loss 0.443 Train accuracy 74.6 Test accuracy 69.2\n",
            "Epoch 4 Loss 0.456 Train accuracy 71.2 Test accuracy 65.6\n",
            "Epoch 5 Loss 0.323 Train accuracy 79.2 Test accuracy 68.4\n",
            "Epoch 6 Loss 0.323 Train accuracy 83.8 Test accuracy 76.6\n",
            "Epoch 7 Loss 0.260 Train accuracy 86.2 Test accuracy 78.0\n",
            "Epoch 8 Loss 0.270 Train accuracy 87.2 Test accuracy 76.4\n",
            "Epoch 9 Loss 0.206 Train accuracy 89.6 Test accuracy 77.6\n",
            "Epoch 10 Loss 0.174 Train accuracy 92.0 Test accuracy 75.4\n",
            "Epoch 11 Loss 0.148 Train accuracy 93.6 Test accuracy 76.4\n",
            "Epoch 12 Loss 0.112 Train accuracy 97.8 Test accuracy 77.0\n",
            "Epoch 13 Loss 0.111 Train accuracy 96.0 Test accuracy 76.8\n",
            "Epoch 14 Loss 0.100 Train accuracy 98.4 Test accuracy 77.2\n",
            "Epoch 15 Loss 0.073 Train accuracy 98.2 Test accuracy 77.4\n",
            "Epoch 16 Loss 0.046 Train accuracy 99.4 Test accuracy 76.6\n",
            "Epoch 17 Loss 0.043 Train accuracy 99.2 Test accuracy 76.0\n",
            "Epoch 18 Loss 0.026 Train accuracy 99.0 Test accuracy 77.2\n",
            "Epoch 19 Loss 0.026 Train accuracy 99.8 Test accuracy 77.4\n",
            "Epoch 20 Loss 0.012 Train accuracy 99.6 Test accuracy 76.2\n",
            "Epoch 21 Loss 0.016 Train accuracy 100.0 Test accuracy 77.4\n",
            "Epoch 22 Loss 0.015 Train accuracy 100.0 Test accuracy 77.0\n",
            "Epoch 23 Loss 0.027 Train accuracy 99.8 Test accuracy 77.0\n",
            "Epoch 24 Loss 0.016 Train accuracy 100.0 Test accuracy 77.0\n",
            "Epoch 25 Loss 0.008 Train accuracy 99.8 Test accuracy 76.8\n",
            "Epoch 26 Loss 0.031 Train accuracy 99.6 Test accuracy 77.6\n",
            "Epoch 27 Loss 0.009 Train accuracy 100.0 Test accuracy 77.4\n",
            "Epoch 28 Loss 0.008 Train accuracy 100.0 Test accuracy 77.6\n",
            "Epoch 29 Loss 0.005 Train accuracy 100.0 Test accuracy 77.4\n",
            "Epoch 30 Loss 0.008 Train accuracy 100.0 Test accuracy 77.0\n",
            "Epoch 31 Loss 0.004 Train accuracy 99.8 Test accuracy 77.2\n",
            "Epoch 32 Loss 0.004 Train accuracy 100.0 Test accuracy 78.0\n",
            "Epoch 33 Loss 0.003 Train accuracy 99.8 Test accuracy 77.6\n",
            "Epoch 34 Loss 0.003 Train accuracy 100.0 Test accuracy 77.4\n",
            "Epoch 35 Loss 0.007 Train accuracy 100.0 Test accuracy 77.6\n",
            "Epoch 36 Loss 0.007 Train accuracy 100.0 Test accuracy 78.0\n",
            "Epoch 37 Loss 0.002 Train accuracy 99.8 Test accuracy 77.0\n",
            "Epoch 38 Loss 0.004 Train accuracy 99.8 Test accuracy 78.0\n",
            "Epoch 39 Loss 0.003 Train accuracy 100.0 Test accuracy 77.2\n",
            "Epoch 40 Loss 0.001 Train accuracy 100.0 Test accuracy 77.6\n",
            "Epoch 41 Loss 0.003 Train accuracy 100.0 Test accuracy 77.4\n",
            "Epoch 42 Loss 0.001 Train accuracy 99.8 Test accuracy 77.2\n",
            "Epoch 43 Loss 0.002 Train accuracy 100.0 Test accuracy 77.2\n",
            "Epoch 44 Loss 0.002 Train accuracy 100.0 Test accuracy 77.4\n",
            "Epoch 45 Loss 0.003 Train accuracy 99.8 Test accuracy 77.6\n",
            "Epoch 46 Loss 0.005 Train accuracy 100.0 Test accuracy 76.4\n",
            "Epoch 47 Loss 0.002 Train accuracy 99.8 Test accuracy 77.4\n",
            "Epoch 48 Loss 0.002 Train accuracy 99.8 Test accuracy 77.6\n",
            "Epoch 49 Loss 0.002 Train accuracy 100.0 Test accuracy 77.4\n"
          ],
          "name": "stdout"
        }
      ]
    },
    {
      "cell_type": "markdown",
      "metadata": {
        "id": "3ift7fK8UMpp"
      },
      "source": [
        "**5.   Re-evaluate the network on C&D test set:** We simply utilize our evaluation function and provide the C&D test dataloader with the modified labels for CIFAR to the function to evaluate.\n"
      ]
    },
    {
      "cell_type": "code",
      "metadata": {
        "id": "nBn8U_xJWd9B",
        "outputId": "d50c1842-1db7-4489-d777-6b5fd568222a",
        "colab": {
          "base_uri": "https://localhost:8080/",
          "height": 68
        }
      },
      "source": [
        "print(\"Evaluation on C&D test set:\")\n",
        "evaluate(classifier, cndcifar_testloader)"
      ],
      "execution_count": null,
      "outputs": [
        {
          "output_type": "stream",
          "text": [
            "Evaluation on C&D test set:\n",
            "Test set size is 500\n",
            "Accuracy over the whole test set is 77.400 percent\n"
          ],
          "name": "stdout"
        }
      ]
    },
    {
      "cell_type": "markdown",
      "metadata": {
        "id": "H2lab-oo28uT"
      },
      "source": [
        "Lastly, let's see how the prediction of our custom test image has changed!"
      ]
    },
    {
      "cell_type": "code",
      "metadata": {
        "id": "6PaSygsx2aSj",
        "outputId": "dd40d40d-8896-4f52-d92f-ad18bc3fc80f",
        "colab": {
          "base_uri": "https://localhost:8080/",
          "height": 300
        }
      },
      "source": [
        "## Read image from file and resize to 64 x 64\n",
        "image = Image.open(os.path.join('/content/drive/My Drive',FOLDER,'아갱1.jpg')).resize((32,32))\n",
        "\n",
        "## Convert PIL image to network input as given by\n",
        "x = transform(image).unsqueeze(0)\n",
        "\n",
        "## Check that the dimension is the same as in training\n",
        "print('Size of x is',x.size())\n",
        "\n",
        "classifier.eval()\n",
        "\n",
        "with torch.no_grad():\n",
        "  y_pred = classifier(x.cuda())\n",
        "  y_prob = torch.nn.functional.softmax(y_pred,dim=1)\n",
        "  label = torch.argmax(y_prob).item()\n",
        "\n",
        "plt.imshow(image, cmap='gray')\n",
        "\n",
        "print('Output is',classes[label],'with probability',torch.max(y_prob).item())"
      ],
      "execution_count": null,
      "outputs": [
        {
          "output_type": "stream",
          "text": [
            "Size of x is torch.Size([1, 3, 32, 32])\n",
            "Output is cat with probability 0.95767742395401\n"
          ],
          "name": "stdout"
        },
        {
          "output_type": "display_data",
          "data": {
            "image/png": "[encoded data removed]",
            "text/plain": [
              "<Figure size 432x288 with 1 Axes>"
            ]
          },
          "metadata": {
            "tags": [],
            "needs_background": "light"
          }
        }
      ]
    },
    {
      "cell_type": "markdown",
      "metadata": {
        "id": "X1gNW-SQBAzW"
      },
      "source": [
        "This image that had previously been falsely classified as a dog with 91% probability is now correctly being classified as a cat with nearly 96% probability. Great!"
      ]
    }
  ]
}