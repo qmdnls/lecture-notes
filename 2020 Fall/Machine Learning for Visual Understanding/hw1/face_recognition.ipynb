{
  "nbformat": 4,
  "nbformat_minor": 0,
  "metadata": {
    "accelerator": "GPU",
    "colab": {
      "name": "face_recognition.ipynb",
      "provenance": [],
      "collapsed_sections": []
    },
    "kernelspec": {
      "display_name": "Python 3",
      "language": "python",
      "name": "python3"
    },
    "language_info": {
      "codemirror_mode": {
        "name": "ipython",
        "version": 3
      },
      "file_extension": ".py",
      "mimetype": "text/x-python",
      "name": "python",
      "nbconvert_exporter": "python",
      "pygments_lexer": "ipython3",
      "version": "3.8.2"
    }
  },
  "cells": [
    {
      "cell_type": "markdown",
      "metadata": {
        "colab_type": "text",
        "id": "220g612iu1lR"
      },
      "source": [
        "## Who is your celebrity look alike?\n",
        "\n",
        "####**Designed by Joon Son Chung, September 2020**\n",
        "\n",
        "The goal of today's assignment is to familiarise yourself with Pytorch through an application of deep learning.\n",
        "\n",
        "In doing so, you will find your celebrity look alike.\n",
        "\n",
        "You should spend a maximum of 90 minutes on this work.\n",
        "\n",
        "\n",
        "You need to run the following scripts step by step.\n",
        "\n",
        "First, locate the directory where you put the assignment folder and assign it to `FOLDER`. The script will throw an error if it is not the right folder."
      ]
    },
    {
      "cell_type": "code",
      "metadata": {
        "colab_type": "code",
        "id": "QmRyd6HNrv12",
        "colab": {
          "base_uri": "https://localhost:8080/",
          "height": 71
        },
        "outputId": "196d335e-0eed-41e1-fd92-4c8c041d8604"
      },
      "source": [
        "from google.colab import drive\n",
        "from zipfile import ZipFile\n",
        "import os, glob, sys\n",
        "\n",
        "drive.mount('/content/drive', force_remount=True)\n",
        "\n",
        "# path relative to the home folder of Drive\n",
        "FOLDER = 'University/2020 Fall/Machine Learning for Visual Understanding/hw1/' ##### FILL THIS IN #####\n",
        "\n",
        "assert os.path.exists(os.path.join('/content/drive/My Drive/',FOLDER,'models')), \"[!] Enter valid path to the assignment.\"\n",
        "\n",
        "os.chdir(os.path.join('/content/drive/My Drive/',FOLDER))\n",
        "\n",
        "print('Extracting LFW images')\n",
        "\n",
        "with ZipFile('lfw_cropped.zip', 'r') as zipObj:\n",
        "  zipObj.extractall('/content')\n",
        "\n",
        "print('Extraction complete')"
      ],
      "execution_count": 82,
      "outputs": [
        {
          "output_type": "stream",
          "text": [
            "Mounted at /content/drive\n",
            "Extracting LFW images\n",
            "Extraction complete\n"
          ],
          "name": "stdout"
        }
      ]
    },
    {
      "cell_type": "markdown",
      "metadata": {
        "colab_type": "text",
        "id": "ldN1W0BX_Ufb"
      },
      "source": [
        "Now, load the model. In PyTorch, you need to load model definitions and weights separately. **You do not need to change this section**."
      ]
    },
    {
      "cell_type": "code",
      "metadata": {
        "colab_type": "code",
        "id": "RliXhrMEvORL",
        "colab": {
          "base_uri": "https://localhost:8080/",
          "height": 89
        },
        "outputId": "651316bb-9610-4446-d35c-8970f9478788"
      },
      "source": [
        "!pwd\n",
        "sys.path.append('.')\n",
        "import torch\n",
        "import cv2\n",
        "import models.resnet as ResNet\n",
        "from detectors import S3FD\n",
        "\n",
        "# Load the network\n",
        "model = ResNet.resnet50(num_classes=8631, include_top=False).cuda()\n",
        "weights = torch.load('models/model.pt')\n",
        "model.load_state_dict(weights)\n",
        "model.eval()\n",
        "print('Model loaded')\n",
        "\n",
        "# Load the face detector (you can ignore this part)\n",
        "DET = S3FD(device='cuda')"
      ],
      "execution_count": 83,
      "outputs": [
        {
          "output_type": "stream",
          "text": [
            "/content/drive/My Drive/University/2020 Fall/Machine Learning for Visual Understanding/hw1\n",
            "Model loaded\n",
            "[S3FD] loading with cuda\n",
            "[S3FD] finished loading (0.3270 sec)\n"
          ],
          "name": "stdout"
        }
      ]
    },
    {
      "cell_type": "markdown",
      "metadata": {
        "colab_type": "text",
        "id": "Qqg0FXYQIp9V"
      },
      "source": [
        "### Example\n",
        "\n",
        "The image reader loads JPEG files into Numpy. You do not need to understand the inner workings of the loader. You need to specify `crop=True` and pass the detector as an argument if the image is from the Internet and not yet cropped. If the image has already been cropped, you do not need to do this. "
      ]
    },
    {
      "cell_type": "code",
      "metadata": {
        "colab_type": "code",
        "id": "0mNyyu3P-CqL",
        "colab": {
          "base_uri": "https://localhost:8080/",
          "height": 35
        },
        "outputId": "38bf1827-17c5-4efb-e4a0-c12422080354"
      },
      "source": [
        "sys.path.append('utils')\n",
        "from image_reader import image_reader\n",
        "\n",
        "# Load and crop original images\n",
        "image1 = image_reader('obama.jpg',crop=True,detector=DET)\n",
        "image2 = image_reader('trump.jpg',crop=True,detector=DET)\n",
        "\n",
        "# Load already cropped image\n",
        "image3 = image_reader('cropped_obama.jpg',crop=False)\n",
        "\n",
        "print('Images loaded as Tensors.')"
      ],
      "execution_count": 84,
      "outputs": [
        {
          "output_type": "stream",
          "text": [
            "Images loaded as Tensors.\n"
          ],
          "name": "stdout"
        }
      ]
    },
    {
      "cell_type": "markdown",
      "metadata": {
        "colab_type": "text",
        "id": "v1Zm9zicVM5X"
      },
      "source": [
        "Then, the next task is to extract features using the pre-trained network."
      ]
    },
    {
      "cell_type": "code",
      "metadata": {
        "colab_type": "code",
        "id": "xbynyGiEVNvx",
        "colab": {
          "base_uri": "https://localhost:8080/",
          "height": 71
        },
        "outputId": "1cab2535-cbe0-41ad-a41a-b6ba34badc2b"
      },
      "source": [
        "with torch.no_grad():\n",
        "  feature1 = model(image1.cuda())\n",
        "  feature2 = model(image2.cuda())\n",
        "  feature3 = model(image3.cuda())\n",
        "\n",
        "print('The feature is of the shape',feature1.size())\n",
        "\n",
        "print('Similarity between image 1 and 2 is', torch.nn.functional.cosine_similarity(feature1,feature2).item())\n",
        "print('Similarity between image 1 and 3 is', torch.nn.functional.cosine_similarity(feature1,feature3).item())"
      ],
      "execution_count": 85,
      "outputs": [
        {
          "output_type": "stream",
          "text": [
            "The feature is of the shape torch.Size([1, 2048, 1, 1])\n",
            "Similarity between image 1 and 2 is 0.2950878143310547\n",
            "Similarity between image 1 and 3 is 0.5614452958106995\n"
          ],
          "name": "stdout"
        }
      ]
    },
    {
      "cell_type": "markdown",
      "metadata": {
        "colab_type": "text",
        "id": "i0Nnc4aZOFX-"
      },
      "source": [
        "We need to get a list of files in LFW."
      ]
    },
    {
      "cell_type": "code",
      "metadata": {
        "colab_type": "code",
        "id": "Vy0age-TOGAm",
        "colab": {
          "base_uri": "https://localhost:8080/",
          "height": 35
        },
        "outputId": "80f622cb-bd29-4abe-c767-d58bf784407d"
      },
      "source": [
        "# glob.glob returns a list of paths matching a file name pattern.\n",
        "files = glob.glob('/content/lfw_cropped/*/*.jpg')\n",
        "print('%d files found.'%(len(files)))"
      ],
      "execution_count": 86,
      "outputs": [
        {
          "output_type": "stream",
          "text": [
            "1025 files found.\n"
          ],
          "name": "stdout"
        }
      ]
    },
    {
      "cell_type": "markdown",
      "metadata": {
        "colab_type": "text",
        "id": "2DvUsqPbaJV-"
      },
      "source": [
        "### Task for you\n",
        "\n",
        "Now, this is the task for you. Go through all images in `files`. **The images in LFW are already cropped.** Find the face image that is closest to Obama's face in **obama.jpg** (`feature1` above). This might take one or two minutes to run.\n",
        "\n",
        "\n",
        "\n",
        "Hint: see the documentation for `torch.argmax`."
      ]
    },
    {
      "cell_type": "code",
      "metadata": {
        "colab_type": "code",
        "id": "63fugxdBaJ2W",
        "colab": {}
      },
      "source": [
        "scores = torch.zeros(len(files))\n",
        "\n",
        "obama_features = feature1 # more intuitive variable name\n",
        "\n",
        "##### FIND INDEX OF THE FILE WITH THE HIGHEST SIMILARITY\n",
        "\n",
        "# compute scores for all images\n",
        "for idx, img_path in enumerate(files):\n",
        "  # load and crop the image\n",
        "  image = image_reader(img_path, crop=False)\n",
        "  # extract image features using resnet\n",
        "  features = model(image.cuda())\n",
        "  # compute cosine similarity with obama's resnet features\n",
        "  scores[idx] = torch.nn.functional.cosine_similarity(obama_features, features).item()\n",
        "\n",
        "# get the index with the highest score\n",
        "sim_idx = torch.argmax(scores)"
      ],
      "execution_count": 87,
      "outputs": []
    },
    {
      "cell_type": "markdown",
      "metadata": {
        "colab_type": "text",
        "id": "pjKAmsCMgoBX"
      },
      "source": [
        "Let's see the closest face to Obama's. If your implementation is the same as mine, you should see `The closest image is /content/lfw_cropped/Cuba_Gooding_Jr/Cuba_Gooding_Jr_0001.jpg with score 0.523.`"
      ]
    },
    {
      "cell_type": "code",
      "metadata": {
        "colab_type": "code",
        "id": "mK4Kw6zag2Ut",
        "colab": {
          "base_uri": "https://localhost:8080/",
          "height": 259
        },
        "outputId": "c18a76fd-c37b-498f-f99d-6505f401c4ec"
      },
      "source": [
        "print('The closest image is %s with score %.3f.'%(files[sim_idx],scores[sim_idx]))\n",
        "\n",
        "from IPython.display import Image\n",
        "Image(filename=files[sim_idx]) "
      ],
      "execution_count": 88,
      "outputs": [
        {
          "output_type": "stream",
          "text": [
            "The closest image is /content/lfw_cropped/Cuba_Gooding_Jr/Cuba_Gooding_Jr_0001.jpg with score 0.523.\n"
          ],
          "name": "stdout"
        },
        {
          "output_type": "execute_result",
          "data": {
            "image/jpeg": "[encoded data removed]",
            "text/plain": [
              "<IPython.core.display.Image object>"
            ]
          },
          "metadata": {
            "tags": []
          },
          "execution_count": 88
        }
      ]
    },
    {
      "cell_type": "markdown",
      "metadata": {
        "colab_type": "text",
        "id": "0jh7HdAzfxXH"
      },
      "source": [
        "Now, upload your face image (or somebody else's face if you prefer) to your Google Drive and find the closest match in the database. "
      ]
    },
    {
      "cell_type": "code",
      "metadata": {
        "colab_type": "code",
        "id": "Bissnbm6hXx8",
        "colab": {
          "base_uri": "https://localhost:8080/",
          "height": 259
        },
        "outputId": "e5ad681c-759a-456f-d1e7-0d00d6e0a0bc"
      },
      "source": [
        "base_path = \"/content/drive/My Drive/\"\n",
        "my_img_path = os.path.join(base_path, FOLDER, 'me2.jpg') \n",
        "assert os.path.exists(my_img_path), \"Image path invalid!\"\n",
        "\n",
        "##### LOAD YOUR IMAGE WITH CROPPING ENABLED\n",
        "my_image = image_reader(my_img_path, crop=True, detector=DET)\n",
        "\n",
        "##### OBTAIN FEATURES \n",
        "my_features = model(my_image.cuda())\n",
        "\n",
        "##### ITERATE THROUGH THE LFW DATASET AND FIND THE CLOSEST MATCH\n",
        "for idx, img_path in enumerate(files):\n",
        "  # load and crop the image\n",
        "  image = image_reader(img_path, crop=False)\n",
        "  # extract image features using resnet\n",
        "  features = model(image.cuda())\n",
        "  # compute cosine similarity with my own resnet features\n",
        "  scores[idx] = torch.nn.functional.cosine_similarity(my_features, features).item()\n",
        "\n",
        "# get the index with the highest score\n",
        "sim_idx = torch.argmax(scores)\n",
        "\n",
        "# display the most similar image\n",
        "print('The closest image is %s with score %.3f.'%(files[sim_idx],scores[sim_idx]))\n",
        "Image(filename=files[sim_idx])"
      ],
      "execution_count": 89,
      "outputs": [
        {
          "output_type": "stream",
          "text": [
            "The closest image is /content/lfw_cropped/David_Obey/David_Obey_0001.jpg with score 0.459.\n"
          ],
          "name": "stdout"
        },
        {
          "output_type": "execute_result",
          "data": {
            "image/jpeg": "[encoded data removed]",
            "text/plain": [
              "<IPython.core.display.Image object>"
            ]
          },
          "metadata": {
            "tags": []
          },
          "execution_count": 89
        }
      ]
    },
    {
      "cell_type": "markdown",
      "metadata": {
        "colab_type": "text",
        "id": "XqaUt2GZhywO"
      },
      "source": [
        "**Strictly optional.** you still have time? Make a small dataset (20-50 images) of Korean celebrities and upload it to Google Drive. Find the image that looks the most like you."
      ]
    },
    {
      "cell_type": "code",
      "metadata": {
        "colab_type": "code",
        "id": "JG9HiIspiO1_",
        "colab": {}
      },
      "source": [
        "##### THIS IS UP TO YOU"
      ],
      "execution_count": 90,
      "outputs": []
    }
  ]
}